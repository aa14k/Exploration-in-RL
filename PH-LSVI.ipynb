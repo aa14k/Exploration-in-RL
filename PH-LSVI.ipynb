{
 "cells": [
  {
   "cell_type": "code",
   "execution_count": 1,
   "metadata": {},
   "outputs": [],
   "source": [
    "import numpy as np\n",
    "import random\n",
    "from tqdm.notebook import tqdm\n",
    "import copy\n",
    "from scipy.stats import bernoulli\n",
    "import matplotlib.pyplot as plt\n",
    "import scipy"
   ]
  },
  {
   "cell_type": "code",
   "execution_count": 2,
   "metadata": {},
   "outputs": [],
   "source": [
    "class Environment(object):\n",
    "    '''General RL environment'''\n",
    "\n",
    "    def __init__(self):\n",
    "        pass\n",
    "\n",
    "    def reset(self):\n",
    "        pass\n",
    "\n",
    "    def advance(self, action):\n",
    "        '''\n",
    "        Moves one step in the environment.\n",
    "        Args:\n",
    "            action\n",
    "        Returns:\n",
    "            reward - double - reward\n",
    "            newState - int - new state\n",
    "            pContinue - 0/1 - flag for end of the episode\n",
    "        '''\n",
    "        return 0, 0, 0\n",
    "\n",
    "\n",
    "def make_riverSwim(epLen=20, nState=5):\n",
    "    '''\n",
    "    Makes the benchmark RiverSwim MDP code by Ian Osband.\n",
    "    Args:\n",
    "        NULL - works for default implementation\n",
    "    Returns:\n",
    "        riverSwim - Tabular MDP environment '''\n",
    "    nAction = 2\n",
    "    R_true = {}\n",
    "    P_true = {}\n",
    "    states = {}\n",
    "    for s in range(nState):\n",
    "        states[(s)] = 0.0\n",
    "        for a in range(nAction):\n",
    "            R_true[s, a] = (0, 0)\n",
    "            P_true[s, a] = np.zeros(nState)\n",
    "\n",
    "    # Rewards\n",
    "    R_true[0, 0] = (5/1000, 0)\n",
    "    R_true[nState - 1, 1] = (1, 0)\n",
    "\n",
    "    # Transitions\n",
    "    for s in range(nState):\n",
    "        P_true[s, 0][max(0, s-1)] = 1.\n",
    "\n",
    "    for s in range(1, nState - 1):\n",
    "        P_true[s, 1][min(nState - 1, s + 1)] = 0.3\n",
    "        P_true[s, 1][s] = 0.6\n",
    "        P_true[s, 1][max(0, s-1)] = 0.1\n",
    "\n",
    "    P_true[0, 1][0] = 0.3\n",
    "    P_true[0, 1][1] = 0.7\n",
    "    P_true[nState - 1, 1][nState - 1] = 0.9\n",
    "    P_true[nState - 1, 1][nState - 2] = 0.1\n",
    "\n",
    "    riverSwim = TabularMDP(nState, nAction, epLen)\n",
    "    riverSwim.R = R_true\n",
    "    riverSwim.P = P_true\n",
    "    riverSwim.states = states\n",
    "    riverSwim.reset()\n",
    "\n",
    "    return riverSwim\n",
    "\n",
    "\n",
    "\n",
    "class TabularMDP(Environment):\n",
    "    '''\n",
    "    Tabular MDP\n",
    "    R - dict by (s,a) - each R[s,a] = (meanReward, sdReward)\n",
    "    P - dict by (s,a) - each P[s,a] = transition vector size S\n",
    "    '''\n",
    "\n",
    "    def __init__(self, nState, nAction, epLen):\n",
    "        '''\n",
    "        Initialize a tabular episodic MDP\n",
    "        Args:\n",
    "            nState  - int - number of states\n",
    "            nAction - int - number of actions\n",
    "            epLen   - int - episode length\n",
    "        Returns:\n",
    "            Environment object\n",
    "        '''\n",
    "\n",
    "        self.nState = nState\n",
    "        self.nAction = nAction\n",
    "        self.epLen = epLen\n",
    "\n",
    "        self.timestep = 0\n",
    "        self.state = 0\n",
    "\n",
    "        # Now initialize R and P\n",
    "        self.R = {}\n",
    "        self.P = {}\n",
    "        self.states = {}\n",
    "        for state in range(nState):\n",
    "            for action in range(nAction):\n",
    "                self.R[state, action] = (1, 1)\n",
    "                self.P[state, action] = np.ones(nState) / nState\n",
    "\n",
    "    def reset(self):\n",
    "        \"Resets the Environment\"\n",
    "        self.timestep = 0\n",
    "        self.state = 0\n",
    "\n",
    "    def advance(self,action):\n",
    "        '''\n",
    "        Move one step in the environment\n",
    "        Args:\n",
    "        action - int - chosen action\n",
    "        Returns:\n",
    "        reward - double - reward\n",
    "        newState - int - new state\n",
    "        episodeEnd - 0/1 - flag for end of the episode\n",
    "        '''\n",
    "        if self.R[self.state, action][1] < 1e-9:\n",
    "            # Hack for no noise\n",
    "            reward = self.R[self.state, action][0]\n",
    "        else:\n",
    "            reward = np.random.normal(loc=self.R[self.state, action][0],\n",
    "                                      scale=self.R[self.state, action][1])\n",
    "        #print(self.state, action, self.P[self.state, action])\n",
    "        newState = np.random.choice(self.nState, p=self.P[self.state, action])\n",
    "\n",
    "        # Update the environment\n",
    "        self.state = newState\n",
    "        self.timestep += 1\n",
    "\n",
    "        episodeEnd = 0\n",
    "        if self.timestep == self.epLen:\n",
    "            episodeEnd = 1\n",
    "            #newState = None\n",
    "            self.reset()\n",
    "\n",
    "        return reward, newState, episodeEnd\n",
    "\n",
    "    def argmax(self,b):\n",
    "        #print(b)\n",
    "        return np.random.choice(np.where(b == b.max())[0])"
   ]
  },
  {
   "cell_type": "code",
   "execution_count": 3,
   "metadata": {},
   "outputs": [],
   "source": [
    "class Opt_Policy(object):\n",
    "    '''\n",
    "    For Computing Q*, the optimal q_values. This code was written with RiverSwim in mind.\n",
    "    '''\n",
    "    def __init__(self,env):\n",
    "        self.env = env\n",
    "        self.Q = np.zeros((self.env.epLen+1,self.env.nState,self.env.nAction))\n",
    "        self.V = np.zeros((self.env.epLen+1,self.env.nState))\n",
    "    \n",
    "    def update(self):\n",
    "        Q = np.zeros((self.env.epLen + 1,self.env.nState,self.env.nAction))\n",
    "        V = np.zeros((self.env.epLen + 1,self.env.nState))\n",
    "        for h in range(self.env.epLen-1,-1,-1):\n",
    "            for s in range(self.env.nState):\n",
    "                for a in range(self.env.nAction):\n",
    "                    reward = env.R[s,a][0]\n",
    "                    '''\n",
    "                    for s_ in range(self.env.nState):\n",
    "                        #print(s,a,s_)\n",
    "                        reward += self.env.R[s,a,s_][0]*self.env.P[s,a][s_]\n",
    "                    '''\n",
    "                    p = env.P[s,a]\n",
    "                    Q[h,s,a] = reward + np.inner(p,V[h+1,:])\n",
    "                V[h,s] = max(Q[h,s,:])\n",
    "        self.Q = Q.copy()\n",
    "        self.V = V.copy()\n",
    "    \n",
    "    def act(self,s,h):\n",
    "        return env.argmax(self.Q[h,s,:])"
   ]
  },
  {
   "cell_type": "code",
   "execution_count": 4,
   "metadata": {},
   "outputs": [],
   "source": [
    "class LSVI_UCB(object):\n",
    "    def __init__(self,env,K,delta):\n",
    "        self.env = env\n",
    "        self.K = K\n",
    "        self.p = delta\n",
    "        self.d = self.env.nState * self.env.nAction\n",
    "        self.lam = 1.0\n",
    "        self.Lambda = {h: self.lam*np.identity(self.d) for h in range(self.env.epLen)}\n",
    "        self.L = {h: (self.lam)*np.identity(self.d) for h in range(self.env.epLen)}\n",
    "        self.Linv = {h: (1/self.lam)*np.identity(self.d) for h in range(self.env.epLen)}\n",
    "        self.w = {h: np.zeros(self.d) for h in range(self.env.epLen)}\n",
    "        self.Q = {(h,s,a): 0.0 for h in range(self.env.epLen+1) for s in self.env.states.keys() \\\n",
    "                   for a in range(self.env.nAction)}\n",
    "        self.features_state_action = {(s,a): np.zeros(self.d) for s in self.env.states.keys() \\\n",
    "                                      for a in range(self.env.nAction)}\n",
    "        self.createIdentity()\n",
    "        self.buffer = {h: [] for h in range(self.env.epLen)}\n",
    "        self.sums = {h: np.zeros(self.d) for h in range(self.env.epLen)}\n",
    "        self.c = 1.0\n",
    "        self.m_2 = np.sqrt(self.d) #choosing this is constant is very important, how to do so is not simple though...\n",
    "        \n",
    "    \n",
    "    def createIdentity(self):\n",
    "        '''\n",
    "            A function that creates the Identity Matrix for a Dictionary\n",
    "        '''\n",
    "        i = 0\n",
    "        for key in self.features_state_action.keys():\n",
    "            self.features_state_action[key][i] = 1\n",
    "            i += 1\n",
    "        j = 0\n",
    "    \n",
    "    def update_buffer(self,s,a,r,s_,h):\n",
    "        self.buffer[h].append((s,a,r,s_))\n",
    "    \n",
    "    def reset_buffer(self):\n",
    "        self.buffer = {h: [] for h in range(self.env.epLen)}\n",
    "    \n",
    "    def update(self):\n",
    "        \n",
    "        Q = {(h,s,a): 0.0 for h in range(self.env.epLen+1) for s in self.env.states.keys() \\\n",
    "                   for a in range(self.env.nAction)}\n",
    "        for h in range(self.env.epLen-1,-1,-1):\n",
    "            d = self.buffer[h]\n",
    "            s,a,r,s_ = d[0][0],d[0][1],d[0][2],d[0][3]\n",
    "            \n",
    "            self.L[h] = self.L[h] + np.outer(self.features_state_action[s,a],self.features_state_action[s,a])\n",
    "            \n",
    "            self.Linv[h] = self.Linv[h] - np.dot((np.outer(np.dot(self.Linv[h],self.features_state_action[s,a]) \\\n",
    "                 ,self.features_state_action[s,a])),self.Linv[h]) / \\\n",
    "                    (1 + np.dot(np.dot(self.features_state_action[s,a],self.Linv[h]),self.features_state_action[s,a]))\n",
    "            \n",
    "            self.sums[h] = self.sums[h] + self.features_state_action[s,a]*(env.R[s,a][0] + \\\n",
    "                                             max(np.array([Q[(h+1,s_,a)] for a in range(self.env.nAction)])))\n",
    "            \n",
    "            self.w[h] = np.matmul(self.Linv[h],self.sums[h])\n",
    "            for ss in self.env.states.keys():\n",
    "                for aa in range(env.nAction):\n",
    "                    feature = self.features_state_action[ss,aa]\n",
    "                    Q[h,ss,aa] = min(np.inner(self.w[h],feature) + self.Beta(h) \\\n",
    "                                    * np.sqrt(np.dot(np.dot(feature,self.Linv[h]),feature)),self.env.epLen)\n",
    "        self.Q = Q.copy()\n",
    "    \n",
    "    def act(self,s,h):\n",
    "        '''\n",
    "        A function that returns the argmax of Q given the state and timestep\n",
    "        '''\n",
    "        return self.env.argmax(np.array([self.Q[(h,s,a)] for a in range(self.env.nAction)]))\n",
    "                    \n",
    "    \n",
    "    def Beta(self,h):\n",
    "        '''\n",
    "        iota = np.log(2*self.d*self.K*self.env.epLen/self.p)\n",
    "        return self.c * self.d * (self.env.epLen-h)/2 * np.sqrt(iota)\n",
    "        '''\n",
    "        \n",
    "        first = self.m_2 * np.sqrt(self.lam)\n",
    "        second = np.sqrt(2*np.log(1/self.p) + np.log(np.linalg.det(self.L[h])/self.lam))\n",
    "        return first + second\n",
    "        \n",
    "    \n",
    "    def run(self):\n",
    "        print(\"LSVI-UCB\")\n",
    "        R = 0\n",
    "        Rvec = []\n",
    "        for k in tqdm(range(1,self.K+1)):\n",
    "            self.env.reset()\n",
    "            done = 0\n",
    "            while not done:\n",
    "                s = self.env.state\n",
    "                h = self.env.timestep\n",
    "                a = self.act(s,h)\n",
    "                r,s_,done = self.env.advance(a)\n",
    "                self.update_buffer(s,a,r,s_,h)\n",
    "                R += r\n",
    "            Rvec.append(R)\n",
    "            self.update()\n",
    "            self.reset_buffer()\n",
    "        return Rvec\n",
    "        "
   ]
  },
  {
   "cell_type": "code",
   "execution_count": 5,
   "metadata": {},
   "outputs": [],
   "source": [
    "class LSVI_PHE(object):\n",
    "    def __init__(self,env,K,M,sigma):\n",
    "        self.env = env\n",
    "        self.K = K\n",
    "        self.M = M\n",
    "        self.sigma = sigma\n",
    "        self.S = self.env.nState\n",
    "        self.A = self.env.nAction\n",
    "        self.H = self.env.epLen\n",
    "        self.d = self.S * self.A\n",
    "        self.Q = np.zeros((self.H+1,self.S,self.A)) \n",
    "        self.theta_tilde = np.zeros((self.H,self.M,self.d))\n",
    "        self.lam = 1.0\n",
    "        self.Sigma = np.zeros((self.H,self.d,self.d))\n",
    "        self.target = np.zeros((self.H,self.d))\n",
    "        for h in range(self.H):\n",
    "            self.Sigma[h] = self.lam * np.identity(self.d)\n",
    "        self.T = np.ones((self.H,self.d),dtype=int)\n",
    "        self.buffer = np.zeros((self.H,4),dtype=int)\n",
    "        self.b = np.zeros((self.K,self.H,4),dtype=int)\n",
    "        self.V = np.zeros((self.H,self.S,self.A))\n",
    "        self.phi = np.identity(self.d)\n",
    "        self.Z = np.zeros((self.H,self.M,self.d))\n",
    "        self.init_rand = np.zeros(self.d)\n",
    "        self.det = 0\n",
    "        \n",
    "        \n",
    "    \n",
    "    def act(self,s,h):\n",
    "        return self.env.argmax(self.Q[h,s,:])\n",
    "    \n",
    "    def init_perturb(self):\n",
    "        for s in range(self.S):\n",
    "            for a in range(self.A):\n",
    "                row = int(s*self.A + a)\n",
    "                self.init_rand = self.init_rand + self.phi[row,:]*np.random.normal(0.0,self.sigma**2)\n",
    "    \n",
    "    def update_buffer(self,s,a,r,s_,h,k):\n",
    "        '''\n",
    "        Stores all the data observed for use in LSVI\n",
    "        '''\n",
    "        if s_ == None:\n",
    "            s_ = -1\n",
    "        #This buffer is for the sample covariance matrix Sigma\n",
    "        self.buffer[h,0] = s\n",
    "        self.buffer[h,1] = a\n",
    "        self.buffer[h,2] = r\n",
    "        self.buffer[h,3] = s_\n",
    "        '''\n",
    "        #This buffer is for computing the targets in LSVI\n",
    "        self.b[k,h,0] = s\n",
    "        self.b[k,h,1] = a\n",
    "        self.b[k,h,2] = r\n",
    "        self.b[k,h,3] = s_\n",
    "        '''\n",
    "    '''\n",
    "    def get_Noise(self,h,k):\n",
    "        Z = np.zeros(self.d)\n",
    "        for i in range(k):\n",
    "            s,a = self.b[i,h,0], self.b[i,h,1]\n",
    "            row = int(s*self.A + a)\n",
    "            Z = Z + self.phi[row]*(np.random.normal(0.0,self.sigma**2))\n",
    "        return Z\n",
    "    '''\n",
    "    \n",
    "    def update(self,k):\n",
    "        #Step 4 of PH-RLSVI\n",
    "        for h in range(self.H-1,-1,-1):\n",
    "            #Gets data from the buffer for computing Sigma\n",
    "            s,a,r,s_ = self.buffer[h,0],self.buffer[h,1],self.buffer[h,2],self.buffer[h,3]\n",
    "            if self.buffer[h,3] == -1:\n",
    "                s_ = None\n",
    "            #print(s,a,r,s_)\n",
    "            \n",
    "            #For getting the feature associated with (s,a)\n",
    "            row = s*self.A + a\n",
    "            #self.T[h,s,a] = int(self.T[h,s,a] + 1)\n",
    "            self.T[h,row] = self.T[h,row] + 1\n",
    "            #Step 6: Iteratively updates Sigma \n",
    "            self.Sigma[h] = np.add(self.Sigma[h] , np.outer(self.phi[row,:],self.phi[row,:]))\n",
    "            \n",
    "            #For use in step 7: computes Sigma^(-1)\n",
    "            Sigma_inv = np.linalg.inv(self.Sigma[h])\n",
    "            \n",
    "            #Step 7: Computing theta_tilde\n",
    "            self.target[h] = np.add(self.target[h] , self.phi[row,:]*(r + max(self.Q[h+1,s_,:])))\n",
    "            \n",
    "            for m in range(self.M):\n",
    "                #self.Z[h,m,:] = self.Z[h,m,:] + self.phi[row,:]*np.random.normal(0.0,self.sigma**2)\n",
    "                #self.init_perturb()\n",
    "                Z = np.zeros(self.d)\n",
    "                for i in range(self.d):\n",
    "                    #Z = np.add(Z , self.phi[i,:]*np.sum(np.random.normal(0.0,self.sigma,size=self.T[h,i])))\n",
    "                    Z = np.add(Z , self.phi[i,:]*np.random.normal(0.0,np.sqrt(self.T[h,i])*self.sigma))\n",
    "                self.theta_tilde[h,m,:] = np.dot(1/self.sigma**2 * Sigma_inv,np.add(self.target[h],Z))\n",
    "\n",
    "\n",
    "\n",
    "            #Step 8: Compute Q_optimistic\n",
    "            for s_ in range(self.S):\n",
    "                for a_ in range(self.A):\n",
    "                    maxs = -9999999\n",
    "                    row = s_*self.A + a_\n",
    "\n",
    "                    #Iterates through all the theta_tilde's picking the optimistic one\n",
    "                    for m in range(self.M):\n",
    "                        temps = np.inner(self.phi[row,:],self.theta_tilde[h,m,:])\n",
    "                        if temps > maxs:\n",
    "                            maxs = temps\n",
    "                    #Computes Q_optimistic given the optimistic theta_tilde\n",
    "                    self.Q[h,s_,a_] = max(0,min(maxs,self.H-h))\n",
    "                \n",
    "             \n",
    "            \n",
    "    \n",
    "    \n",
    "    def run(self):\n",
    "        '''\n",
    "        This function runs the agent until episode K is reached\n",
    "        '''\n",
    "        print(\"PHE-LSVI\")\n",
    "        #Stores the rewards for plotting\n",
    "        Rvec = []\n",
    "        R = 0\n",
    "        for k in tqdm(range(self.K)):\n",
    "            self.env.reset()\n",
    "            done = 0\n",
    "            while not done:\n",
    "                s = self.env.state\n",
    "                h = self.env.timestep\n",
    "                a = self.act(s,h)\n",
    "                r,s_,done = self.env.advance(a)\n",
    "                self.update_buffer(s,a,r,s_,h,k)\n",
    "                R += r\n",
    "                \n",
    "            #updates Q\n",
    "            self.update(k)\n",
    "            Rvec.append(R)\n",
    "        return Rvec\n",
    "        "
   ]
  },
  {
   "cell_type": "code",
   "execution_count": 6,
   "metadata": {},
   "outputs": [],
   "source": [
    "class RLSVI(object):\n",
    "    def __init__(self,env,K,M,sigma):\n",
    "        self.env = env\n",
    "        self.K = K\n",
    "        self.M = M\n",
    "        self.sigma = sigma\n",
    "        self.S = self.env.nState\n",
    "        self.A = self.env.nAction\n",
    "        self.H = self.env.epLen\n",
    "        self.d = self.S * self.A\n",
    "        self.Q = np.zeros((self.H+1,self.S,self.A)) \n",
    "        self.theta_tilde = np.zeros((self.H,self.d))\n",
    "        self.lam = 1.0\n",
    "        self.Sigma = np.zeros((self.H,self.d,self.d))\n",
    "        self.target = np.zeros((self.H,self.d))\n",
    "        for h in range(self.H):\n",
    "            self.Sigma[h] = self.lam * np.identity(self.d)\n",
    "        self.T = np.ones((self.H,self.d),dtype=int)\n",
    "        self.buffer = np.zeros((self.H,4),dtype=int)\n",
    "        self.b = np.zeros((self.K,self.H,4),dtype=int)\n",
    "        self.V = np.zeros((self.H,self.S,self.A))\n",
    "        self.phi = np.identity(self.d)\n",
    "        \n",
    "        \n",
    "    \n",
    "    def act(self,s,h):\n",
    "        return self.env.argmax(self.Q[h,s,:])\n",
    "    \n",
    "    \n",
    "    \n",
    "    def update_buffer(self,s,a,r,s_,h,k):\n",
    "        '''\n",
    "        Stores all the data observed for use in LSVI\n",
    "        '''\n",
    "        if s_ == None:\n",
    "            s_ = -1\n",
    "        #This buffer is for the sample covariance matrix Sigma\n",
    "        self.buffer[h,0] = s\n",
    "        self.buffer[h,1] = a\n",
    "        self.buffer[h,2] = r\n",
    "        self.buffer[h,3] = s_\n",
    "\n",
    "    \n",
    "    \n",
    "    def update(self,k):\n",
    "        #Step 4 of PH-RLSVI\n",
    "        for h in range(self.H-1,-1,-1):\n",
    "            #Gets data from the buffer for computing Sigma\n",
    "            s,a,r,s_ = self.buffer[h,0],self.buffer[h,1],self.buffer[h,2],self.buffer[h,3]\n",
    "            if self.buffer[h,3] == -1:\n",
    "                s_ = None\n",
    "            #print(s,a,r,s_)\n",
    "            \n",
    "            #For getting the feature associated with (s,a)\n",
    "            row = s*self.A + a\n",
    "            #Step 6: Iteratively updates Sigma \n",
    "            self.Sigma[h] = np.add(self.Sigma[h] , np.outer(self.phi[row,:],self.phi[row,:]))\n",
    "            \n",
    "            #For use in step 7: computes Sigma^(-1)\n",
    "            Sigma_inv = np.linalg.inv(self.Sigma[h])\n",
    "            \n",
    "            #Step 7: Computing theta_tilde\n",
    "            self.target[h] = np.add(self.target[h] , self.phi[row,:]*(r + max(self.Q[h+1,s_,:])))\n",
    "            \n",
    "            temp = np.dot(Sigma_inv,self.target[h])\n",
    "            \n",
    "            self.theta_tilde[h,:] = np.random.multivariate_normal(temp,Sigma_inv)\n",
    "            \n",
    "            for s_ in range(self.S):\n",
    "                for a_ in range(self.A):\n",
    "                    row = s_*self.A + a_\n",
    "                    Q = np.inner(self.phi[row,:],self.theta_tilde[h,:])\n",
    "                    self.Q[h,s_,a_] = max(0,min(Q,self.H-h))\n",
    "                \n",
    "             \n",
    "            \n",
    "    \n",
    "    \n",
    "    def run(self):\n",
    "        '''\n",
    "        This function runs the agent until episode K is reached\n",
    "        '''\n",
    "        print(\"RLSVI\")\n",
    "        #Stores the rewards for plotting\n",
    "        Rvec = []\n",
    "        R = 0\n",
    "        for k in tqdm(range(self.K)):\n",
    "            self.env.reset()\n",
    "            done = 0\n",
    "            while not done:\n",
    "                s = self.env.state\n",
    "                h = self.env.timestep\n",
    "                a = self.act(s,h)\n",
    "                r,s_,done = self.env.advance(a)\n",
    "                self.update_buffer(s,a,r,s_,h,k)\n",
    "                R += r\n",
    "                \n",
    "            #updates Q\n",
    "            self.update(k)\n",
    "            Rvec.append(R)\n",
    "        return Rvec\n",
    "        "
   ]
  },
  {
   "cell_type": "code",
   "execution_count": 16,
   "metadata": {},
   "outputs": [
    {
     "data": {
      "application/vnd.jupyter.widget-view+json": {
       "model_id": "02f5f3825f3c400fb266a403c8acf624",
       "version_major": 2,
       "version_minor": 0
      },
      "text/plain": [
       "HBox(children=(FloatProgress(value=0.0, max=10.0), HTML(value='')))"
      ]
     },
     "metadata": {},
     "output_type": "display_data"
    },
    {
     "name": "stdout",
     "output_type": "stream",
     "text": [
      "RLSVI\n"
     ]
    },
    {
     "data": {
      "application/vnd.jupyter.widget-view+json": {
       "model_id": "f93e0f8f37404b8bb6d4216f9221a147",
       "version_major": 2,
       "version_minor": 0
      },
      "text/plain": [
       "HBox(children=(FloatProgress(value=0.0, max=20000.0), HTML(value='')))"
      ]
     },
     "metadata": {},
     "output_type": "display_data"
    },
    {
     "name": "stdout",
     "output_type": "stream",
     "text": [
      "\n",
      "LSVI-UCB\n"
     ]
    },
    {
     "data": {
      "application/vnd.jupyter.widget-view+json": {
       "model_id": "4e3d5f6516544e0c8f3bfbe597bf154d",
       "version_major": 2,
       "version_minor": 0
      },
      "text/plain": [
       "HBox(children=(FloatProgress(value=0.0, max=20000.0), HTML(value='')))"
      ]
     },
     "metadata": {},
     "output_type": "display_data"
    },
    {
     "name": "stdout",
     "output_type": "stream",
     "text": [
      "\n",
      "PHE-LSVI\n"
     ]
    },
    {
     "data": {
      "application/vnd.jupyter.widget-view+json": {
       "model_id": "03c473639d9c4dd8a2fc2e746c6b8839",
       "version_major": 2,
       "version_minor": 0
      },
      "text/plain": [
       "HBox(children=(FloatProgress(value=0.0, max=20000.0), HTML(value='')))"
      ]
     },
     "metadata": {},
     "output_type": "display_data"
    },
    {
     "name": "stdout",
     "output_type": "stream",
     "text": [
      "\n",
      "RLSVI\n"
     ]
    },
    {
     "data": {
      "application/vnd.jupyter.widget-view+json": {
       "model_id": "40928c940b374d87ae9f873f32093283",
       "version_major": 2,
       "version_minor": 0
      },
      "text/plain": [
       "HBox(children=(FloatProgress(value=0.0, max=20000.0), HTML(value='')))"
      ]
     },
     "metadata": {},
     "output_type": "display_data"
    },
    {
     "name": "stdout",
     "output_type": "stream",
     "text": [
      "\n",
      "LSVI-UCB\n"
     ]
    },
    {
     "data": {
      "application/vnd.jupyter.widget-view+json": {
       "model_id": "2c48599bb0344fcf9a1285523e63c2bd",
       "version_major": 2,
       "version_minor": 0
      },
      "text/plain": [
       "HBox(children=(FloatProgress(value=0.0, max=20000.0), HTML(value='')))"
      ]
     },
     "metadata": {},
     "output_type": "display_data"
    },
    {
     "name": "stdout",
     "output_type": "stream",
     "text": [
      "\n",
      "PHE-LSVI\n"
     ]
    },
    {
     "data": {
      "application/vnd.jupyter.widget-view+json": {
       "model_id": "035b3ae15be040e5adf6f0e4c28941da",
       "version_major": 2,
       "version_minor": 0
      },
      "text/plain": [
       "HBox(children=(FloatProgress(value=0.0, max=20000.0), HTML(value='')))"
      ]
     },
     "metadata": {},
     "output_type": "display_data"
    },
    {
     "name": "stdout",
     "output_type": "stream",
     "text": [
      "\n",
      "RLSVI\n"
     ]
    },
    {
     "data": {
      "application/vnd.jupyter.widget-view+json": {
       "model_id": "18a5a197d58d4cc19f6865701b343640",
       "version_major": 2,
       "version_minor": 0
      },
      "text/plain": [
       "HBox(children=(FloatProgress(value=0.0, max=20000.0), HTML(value='')))"
      ]
     },
     "metadata": {},
     "output_type": "display_data"
    },
    {
     "name": "stdout",
     "output_type": "stream",
     "text": [
      "\n",
      "LSVI-UCB\n"
     ]
    },
    {
     "data": {
      "application/vnd.jupyter.widget-view+json": {
       "model_id": "26385067773c4a8eb2a65a3c5518335c",
       "version_major": 2,
       "version_minor": 0
      },
      "text/plain": [
       "HBox(children=(FloatProgress(value=0.0, max=20000.0), HTML(value='')))"
      ]
     },
     "metadata": {},
     "output_type": "display_data"
    },
    {
     "name": "stdout",
     "output_type": "stream",
     "text": [
      "\n",
      "PHE-LSVI\n"
     ]
    },
    {
     "data": {
      "application/vnd.jupyter.widget-view+json": {
       "model_id": "503807506f4e40579b485d40fe96926a",
       "version_major": 2,
       "version_minor": 0
      },
      "text/plain": [
       "HBox(children=(FloatProgress(value=0.0, max=20000.0), HTML(value='')))"
      ]
     },
     "metadata": {},
     "output_type": "display_data"
    },
    {
     "name": "stdout",
     "output_type": "stream",
     "text": [
      "\n",
      "RLSVI\n"
     ]
    },
    {
     "data": {
      "application/vnd.jupyter.widget-view+json": {
       "model_id": "6fe9e12227de4418a6379270b8d77e52",
       "version_major": 2,
       "version_minor": 0
      },
      "text/plain": [
       "HBox(children=(FloatProgress(value=0.0, max=20000.0), HTML(value='')))"
      ]
     },
     "metadata": {},
     "output_type": "display_data"
    },
    {
     "name": "stdout",
     "output_type": "stream",
     "text": [
      "\n",
      "LSVI-UCB\n"
     ]
    },
    {
     "data": {
      "application/vnd.jupyter.widget-view+json": {
       "model_id": "36fba3e3ee2e4906ab9c593f02b338e2",
       "version_major": 2,
       "version_minor": 0
      },
      "text/plain": [
       "HBox(children=(FloatProgress(value=0.0, max=20000.0), HTML(value='')))"
      ]
     },
     "metadata": {},
     "output_type": "display_data"
    },
    {
     "name": "stdout",
     "output_type": "stream",
     "text": [
      "\n",
      "PHE-LSVI\n"
     ]
    },
    {
     "data": {
      "application/vnd.jupyter.widget-view+json": {
       "model_id": "bebed441590748738c735da964586bce",
       "version_major": 2,
       "version_minor": 0
      },
      "text/plain": [
       "HBox(children=(FloatProgress(value=0.0, max=20000.0), HTML(value='')))"
      ]
     },
     "metadata": {},
     "output_type": "display_data"
    },
    {
     "name": "stdout",
     "output_type": "stream",
     "text": [
      "\n",
      "RLSVI\n"
     ]
    },
    {
     "data": {
      "application/vnd.jupyter.widget-view+json": {
       "model_id": "3b12250b85624d9ca5febb6550836d34",
       "version_major": 2,
       "version_minor": 0
      },
      "text/plain": [
       "HBox(children=(FloatProgress(value=0.0, max=20000.0), HTML(value='')))"
      ]
     },
     "metadata": {},
     "output_type": "display_data"
    },
    {
     "name": "stdout",
     "output_type": "stream",
     "text": [
      "\n",
      "LSVI-UCB\n"
     ]
    },
    {
     "data": {
      "application/vnd.jupyter.widget-view+json": {
       "model_id": "d5ee59b29a0f40d798883c3a5995b942",
       "version_major": 2,
       "version_minor": 0
      },
      "text/plain": [
       "HBox(children=(FloatProgress(value=0.0, max=20000.0), HTML(value='')))"
      ]
     },
     "metadata": {},
     "output_type": "display_data"
    },
    {
     "name": "stdout",
     "output_type": "stream",
     "text": [
      "\n",
      "PHE-LSVI\n"
     ]
    },
    {
     "data": {
      "application/vnd.jupyter.widget-view+json": {
       "model_id": "a2357d1f932242a39c9791522d8079c7",
       "version_major": 2,
       "version_minor": 0
      },
      "text/plain": [
       "HBox(children=(FloatProgress(value=0.0, max=20000.0), HTML(value='')))"
      ]
     },
     "metadata": {},
     "output_type": "display_data"
    },
    {
     "name": "stdout",
     "output_type": "stream",
     "text": [
      "\n",
      "RLSVI\n"
     ]
    },
    {
     "data": {
      "application/vnd.jupyter.widget-view+json": {
       "model_id": "0ccbed6eb7544385969aa7bad2adef53",
       "version_major": 2,
       "version_minor": 0
      },
      "text/plain": [
       "HBox(children=(FloatProgress(value=0.0, max=20000.0), HTML(value='')))"
      ]
     },
     "metadata": {},
     "output_type": "display_data"
    },
    {
     "name": "stdout",
     "output_type": "stream",
     "text": [
      "\n",
      "LSVI-UCB\n"
     ]
    },
    {
     "data": {
      "application/vnd.jupyter.widget-view+json": {
       "model_id": "0800fcee9ddb470a99fd0cb2f459dd7a",
       "version_major": 2,
       "version_minor": 0
      },
      "text/plain": [
       "HBox(children=(FloatProgress(value=0.0, max=20000.0), HTML(value='')))"
      ]
     },
     "metadata": {},
     "output_type": "display_data"
    },
    {
     "name": "stdout",
     "output_type": "stream",
     "text": [
      "\n",
      "PHE-LSVI\n"
     ]
    },
    {
     "data": {
      "application/vnd.jupyter.widget-view+json": {
       "model_id": "0e1da90d6d304fa08674c3dacc0bce60",
       "version_major": 2,
       "version_minor": 0
      },
      "text/plain": [
       "HBox(children=(FloatProgress(value=0.0, max=20000.0), HTML(value='')))"
      ]
     },
     "metadata": {},
     "output_type": "display_data"
    },
    {
     "name": "stdout",
     "output_type": "stream",
     "text": [
      "\n",
      "RLSVI\n"
     ]
    },
    {
     "data": {
      "application/vnd.jupyter.widget-view+json": {
       "model_id": "0ccff7bce3e346d1a8e6fa6db3fd3c1f",
       "version_major": 2,
       "version_minor": 0
      },
      "text/plain": [
       "HBox(children=(FloatProgress(value=0.0, max=20000.0), HTML(value='')))"
      ]
     },
     "metadata": {},
     "output_type": "display_data"
    },
    {
     "name": "stdout",
     "output_type": "stream",
     "text": [
      "\n",
      "LSVI-UCB\n"
     ]
    },
    {
     "data": {
      "application/vnd.jupyter.widget-view+json": {
       "model_id": "337321533fe34b3a972b55a07a4e3fc0",
       "version_major": 2,
       "version_minor": 0
      },
      "text/plain": [
       "HBox(children=(FloatProgress(value=0.0, max=20000.0), HTML(value='')))"
      ]
     },
     "metadata": {},
     "output_type": "display_data"
    },
    {
     "name": "stdout",
     "output_type": "stream",
     "text": [
      "\n",
      "PHE-LSVI\n"
     ]
    },
    {
     "data": {
      "application/vnd.jupyter.widget-view+json": {
       "model_id": "c4eb99817e7c44229a3ce160365cc5b8",
       "version_major": 2,
       "version_minor": 0
      },
      "text/plain": [
       "HBox(children=(FloatProgress(value=0.0, max=20000.0), HTML(value='')))"
      ]
     },
     "metadata": {},
     "output_type": "display_data"
    },
    {
     "name": "stdout",
     "output_type": "stream",
     "text": [
      "\n",
      "RLSVI\n"
     ]
    },
    {
     "data": {
      "application/vnd.jupyter.widget-view+json": {
       "model_id": "870bf1a10db6416b9f9ebd4407a52a6a",
       "version_major": 2,
       "version_minor": 0
      },
      "text/plain": [
       "HBox(children=(FloatProgress(value=0.0, max=20000.0), HTML(value='')))"
      ]
     },
     "metadata": {},
     "output_type": "display_data"
    },
    {
     "name": "stdout",
     "output_type": "stream",
     "text": [
      "\n",
      "LSVI-UCB\n"
     ]
    },
    {
     "data": {
      "application/vnd.jupyter.widget-view+json": {
       "model_id": "46932d4a92994fef9e37ab46fe787b5a",
       "version_major": 2,
       "version_minor": 0
      },
      "text/plain": [
       "HBox(children=(FloatProgress(value=0.0, max=20000.0), HTML(value='')))"
      ]
     },
     "metadata": {},
     "output_type": "display_data"
    },
    {
     "name": "stdout",
     "output_type": "stream",
     "text": [
      "\n",
      "PHE-LSVI\n"
     ]
    },
    {
     "data": {
      "application/vnd.jupyter.widget-view+json": {
       "model_id": "53396fb1bb2c46ec9d8992ec39f880e7",
       "version_major": 2,
       "version_minor": 0
      },
      "text/plain": [
       "HBox(children=(FloatProgress(value=0.0, max=20000.0), HTML(value='')))"
      ]
     },
     "metadata": {},
     "output_type": "display_data"
    },
    {
     "name": "stdout",
     "output_type": "stream",
     "text": [
      "\n",
      "RLSVI\n"
     ]
    },
    {
     "data": {
      "application/vnd.jupyter.widget-view+json": {
       "model_id": "2645d461e5224cdd89cdb66d490ea523",
       "version_major": 2,
       "version_minor": 0
      },
      "text/plain": [
       "HBox(children=(FloatProgress(value=0.0, max=20000.0), HTML(value='')))"
      ]
     },
     "metadata": {},
     "output_type": "display_data"
    },
    {
     "name": "stdout",
     "output_type": "stream",
     "text": [
      "\n",
      "LSVI-UCB\n"
     ]
    },
    {
     "data": {
      "application/vnd.jupyter.widget-view+json": {
       "model_id": "dffdb58c7278425384eec539833e367d",
       "version_major": 2,
       "version_minor": 0
      },
      "text/plain": [
       "HBox(children=(FloatProgress(value=0.0, max=20000.0), HTML(value='')))"
      ]
     },
     "metadata": {},
     "output_type": "display_data"
    },
    {
     "name": "stdout",
     "output_type": "stream",
     "text": [
      "\n",
      "PHE-LSVI\n"
     ]
    },
    {
     "data": {
      "application/vnd.jupyter.widget-view+json": {
       "model_id": "a5c38e8d687540daa94a30ab3b621ccb",
       "version_major": 2,
       "version_minor": 0
      },
      "text/plain": [
       "HBox(children=(FloatProgress(value=0.0, max=20000.0), HTML(value='')))"
      ]
     },
     "metadata": {},
     "output_type": "display_data"
    },
    {
     "name": "stdout",
     "output_type": "stream",
     "text": [
      "\n",
      "RLSVI\n"
     ]
    },
    {
     "data": {
      "application/vnd.jupyter.widget-view+json": {
       "model_id": "a702fb695de8483a841ce09e12d51171",
       "version_major": 2,
       "version_minor": 0
      },
      "text/plain": [
       "HBox(children=(FloatProgress(value=0.0, max=20000.0), HTML(value='')))"
      ]
     },
     "metadata": {},
     "output_type": "display_data"
    },
    {
     "name": "stdout",
     "output_type": "stream",
     "text": [
      "\n",
      "LSVI-UCB\n"
     ]
    },
    {
     "data": {
      "application/vnd.jupyter.widget-view+json": {
       "model_id": "6087744518d84a32a7b2daec1d13cfca",
       "version_major": 2,
       "version_minor": 0
      },
      "text/plain": [
       "HBox(children=(FloatProgress(value=0.0, max=20000.0), HTML(value='')))"
      ]
     },
     "metadata": {},
     "output_type": "display_data"
    },
    {
     "name": "stdout",
     "output_type": "stream",
     "text": [
      "\n",
      "PHE-LSVI\n"
     ]
    },
    {
     "data": {
      "application/vnd.jupyter.widget-view+json": {
       "model_id": "d74a5207d31041e1911090b9dc1ad36a",
       "version_major": 2,
       "version_minor": 0
      },
      "text/plain": [
       "HBox(children=(FloatProgress(value=0.0, max=20000.0), HTML(value='')))"
      ]
     },
     "metadata": {},
     "output_type": "display_data"
    },
    {
     "name": "stdout",
     "output_type": "stream",
     "text": [
      "\n",
      "\n"
     ]
    }
   ],
   "source": [
    "K = 20000\n",
    "S = 5\n",
    "H = 17\n",
    "env = make_riverSwim(epLen = H,nState = S)\n",
    "M = 1\n",
    "runs = 10\n",
    "\n",
    "R_PHE = np.zeros((runs,K))\n",
    "R_UCB = np.zeros((runs,K))\n",
    "R_RAN = np.zeros((runs,K))\n",
    "\n",
    "\n",
    "opt = Opt_Policy(env)\n",
    "opt.update()\n",
    "Opt_Reward = opt.V[0,0]*range(1,K+1)\n",
    "for r in tqdm(range(runs)):\n",
    "    \n",
    "    agent2 = RLSVI(env,K,M,1.0)\n",
    "    R_RAN[r,:] = agent2.run()\n",
    "    \n",
    "    agent1 = LSVI_UCB(env,K,1.0/K)\n",
    "    R_UCB[r,:] = agent1.run()\n",
    "    \n",
    "    agent3 = LSVI_PHE(env,K,M,1.0)\n",
    "    R_PHE[r,:] = agent3.run()\n",
    "\n"
   ]
  },
  {
   "cell_type": "code",
   "execution_count": 17,
   "metadata": {},
   "outputs": [
    {
     "data": {
      "image/png": "[encoded data removed]",
      "text/plain": [
       "<Figure size 432x288 with 1 Axes>"
      ]
     },
     "metadata": {
      "needs_background": "light"
     },
     "output_type": "display_data"
    }
   ],
   "source": [
    "R_PHE_avg = np.mean(R_PHE,axis=0)\n",
    "R_RAN_avg = np.mean(R_RAN,axis=0)\n",
    "R_UCB_avg = np.mean(R_UCB,axis=0)\n",
    "\n",
    "\n",
    "plt.plot(Opt_Reward - R_PHE_avg,label = 'PHE')\n",
    "plt.plot(Opt_Reward - R_RAN_avg,label = 'RAN')\n",
    "plt.plot(Opt_Reward - R_UCB_avg,label = 'UCB')\n",
    "\n",
    "plt.legend()\n",
    "plt.xlabel('Episode')\n",
    "plt.ylabel('Cumulative Regret')\n",
    "plt.title('RiverSwim epLen = '+str(H)+' , nState = '+str(S)+' , M = '+str(M)+' , Runs = '+str(runs))\n",
    "plt.savefig('PHE_' +str(S)+'_'+str(K)+'.pdf')\n",
    "plt.show()"
   ]
  },
  {
   "cell_type": "code",
   "execution_count": 18,
   "metadata": {},
   "outputs": [
    {
     "data": {
      "image/png": "[encoded data removed]",
      "text/plain": [
       "<Figure size 432x288 with 1 Axes>"
      ]
     },
     "metadata": {
      "needs_background": "light"
     },
     "output_type": "display_data"
    }
   ],
   "source": [
    "plt.scatter(x=range(runs),y=Opt_Reward[-1] - R_PHE[:,-1],label = 'PHE')\n",
    "plt.scatter(x=range(runs),y=Opt_Reward[-1] - R_RAN[:,-1],label = 'RAN')\n",
    "plt.scatter(x=range(runs),y=Opt_Reward[-1] - R_UCB[:,-1],label = 'UCB')\n",
    "\n",
    "plt.legend()\n",
    "plt.xlabel('Run')\n",
    "plt.ylabel('Cumulative Regret')\n",
    "plt.title('RiverSwim epLen = '+str(H)+' , nState = '+str(S)+' , M = '+str(M)+' , Runs = '+str(runs))\n",
    "plt.savefig('PHE_scatter_' +str(S)+'_'+str(K)+'.pdf')\n",
    "plt.show()"
   ]
  },
  {
   "cell_type": "code",
   "execution_count": 19,
   "metadata": {},
   "outputs": [
    {
     "data": {
      "image/png": "[encoded data removed]",
      "text/plain": [
       "<Figure size 432x288 with 1 Axes>"
      ]
     },
     "metadata": {
      "needs_background": "light"
     },
     "output_type": "display_data"
    }
   ],
   "source": [
    "i_phe = np.argmin(R_PHE[:,-1])\n",
    "i_ran = np.argmin(R_RAN[:,-1])\n",
    "i_ucb = np.argmin(R_UCB[:,-1])\n",
    "\n",
    "R_phe_min = R_PHE[i_phe,:]\n",
    "R_ran_min = R_RAN[i_ran,:]\n",
    "R_ucb_min = R_UCB[i_ucb,:]\n",
    "\n",
    "plt.plot(Opt_Reward - R_phe_min,label = 'PHE')\n",
    "plt.plot(Opt_Reward - R_ran_min,label = 'RAN')\n",
    "plt.plot(Opt_Reward - R_ucb_min,label = 'UCB')\n",
    "\n",
    "plt.legend()\n",
    "plt.xlabel('Episode')\n",
    "plt.ylabel('Cumulative Regret')\n",
    "plt.title('Worst Performing Run on RiverSwim epLen = '+str(H)+' , nState = '+str(S)+' , M = '+str(M))\n",
    "plt.savefig('PHE_min_' +str(S)+'_'+str(K)+'.pdf')\n",
    "plt.show()"
   ]
  },
  {
   "cell_type": "code",
   "execution_count": 178,
   "metadata": {},
   "outputs": [
    {
     "data": {
      "text/plain": [
       "20010.0"
      ]
     },
     "execution_count": 178,
     "metadata": {},
     "output_type": "execute_result"
    }
   ],
   "source": [
    "sum(sum(agent.Sigma[-1,:,:]))"
   ]
  },
  {
   "cell_type": "code",
   "execution_count": 191,
   "metadata": {},
   "outputs": [
    {
     "data": {
      "text/plain": [
       "array([3.89232841e+00, 7.78465683e+00, 1.16769852e+01, ...,\n",
       "       7.78387836e+04, 7.78426759e+04, 7.78465683e+04])"
      ]
     },
     "execution_count": 191,
     "metadata": {},
     "output_type": "execute_result"
    }
   ],
   "source": [
    "Opt_Reward - R_avg"
   ]
  },
  {
   "cell_type": "code",
   "execution_count": null,
   "metadata": {},
   "outputs": [],
   "source": []
  }
 ],
 "metadata": {
  "kernelspec": {
   "display_name": "Python 3",
   "language": "python",
   "name": "python3"
  },
  "language_info": {
   "codemirror_mode": {
    "name": "ipython",
    "version": 3
   },
   "file_extension": ".py",
   "mimetype": "text/x-python",
   "name": "python",
   "nbconvert_exporter": "python",
   "pygments_lexer": "ipython3",
   "version": "3.7.3"
  }
 },
 "nbformat": 4,
 "nbformat_minor": 2
}
