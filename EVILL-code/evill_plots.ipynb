{
 "cells": [
  {
   "cell_type": "code",
   "execution_count": 2,
   "id": "a4e2afea-c865-4bec-a65d-e6c6b7b4759a",
   "metadata": {},
   "outputs": [],
   "source": [
    "import matplotlib as mpl\n",
    "import numpy as np\n",
    "import pandas as pd\n",
    "import matplotlib.colors as mcolors\n",
    "\n",
    "\n",
    "the_textwidth = 0.5*487.8225 #234.877\n",
    "golden_ratio = (np.sqrt(5.0) - 1.0) / 2.0\n",
    "\n",
    "\n",
    "def figsize(width, ratio=golden_ratio, height=None):\n",
    "    fig_width_pt = the_textwidth  # Get this from LaTeX using \\the\\textwidth\n",
    "    inches_per_pt = 1.0 / 72.27  # Convert pt to inch\n",
    "    fig_width = fig_width_pt * inches_per_pt * width  # width in inches\n",
    "    fig_height = fig_width * ratio  # height in inches\n",
    "    return [fig_width, height or fig_height]\n",
    "\n",
    "\n",
    "pgf_with_latex = {  # setup matplotlib to use latex for output\n",
    "    \"pgf.texsystem\": \"pdflatex\",  # change this if using xetex or lautex\n",
    "    \"text.usetex\": True,  # use LaTeX to write all text\n",
    "    \"font.family\": \"serif\",\n",
    "    \"font.serif\": [],  # blank entries should cause plots to inherit fonts from the document\n",
    "    \"font.sans-serif\": [],\n",
    "    \"font.monospace\": [],\n",
    "    \"font.size\": 6,\n",
    "    \"figure.figsize\": figsize(0.9),  # default fig size of 0.9 textwidth\n",
    "    \"pgf.preamble\": '\\n'.join([\n",
    "        r\"\\usepackage[utf8x]{inputenc}\",  # use utf8 fonts becasue your computer can handle it :)\n",
    "        r\"\\usepackage[T1]{fontenc}\",  # plots will be generated using this preamble\n",
    "    ])\n",
    "}\n",
    "\n",
    "mpl.rcParams.update(pgf_with_latex)\n",
    "\n",
    "\n",
    "import matplotlib.pyplot as plt\n",
    "\n",
    "plt.style.use(['tableau-colorblind10'])\n",
    "\n",
    "def savefig(fig, filename):\n",
    "    # fig.savefig(f'figs/{filename}.pgf', bbox_inches='tight')\n",
    "    fig.savefig(f'{filename}.pdf', bbox_inches='tight')\n",
    "\n",
    "tcol = mcolors.TABLEAU_COLORS\n",
    "colours = {'MLE': tcol['tab:gray'], 'PHE': tcol['tab:olive'], 'EVILL': tcol['tab:purple'], 'TSL': tcol['tab:cyan']}\n",
    "\n",
    "def sem(v, axis=0):\n",
    "    stds = np.std(v, axis=axis) \n",
    "    l = v.shape[axis]\n",
    "    return stds / np.sqrt(l)\n",
    "\n",
    "def conf_intervals(v):\n",
    "    mean = np.mean(v, axis=0)\n",
    "    err = sem(v, axis=0)\n",
    "    return (mean - err, mean, mean + err)\n",
    "\n",
    "def disable_spines(axs):\n",
    "    for ax in axs:\n",
    "        ax.spines[['right', 'top']].set_visible(False)"
   ]
  },
  {
   "cell_type": "code",
   "execution_count": 3,
   "id": "61fe0042-16d2-44b6-a44e-6b9cf7cf6af6",
   "metadata": {},
   "outputs": [],
   "source": [
    "r_est_rayleigh = np.load(\"results/rayleigh_estimation.npz\", allow_pickle=True)['arr_0'].item()\n",
    "r_rayleigh = np.load(\"results/rayleigh_bandit.npz\", allow_pickle=True)['arr_0'].item()\n",
    "r_logistic_low_var = np.load(\"results/logistic_low_var.npz\", allow_pickle=True)['arr_0'].item()\n",
    "r_logistic_high_var = np.load(\"results/logistic_high_var.npz\", allow_pickle=True)['arr_0'].item()"
   ]
  },
  {
   "cell_type": "code",
   "execution_count": 4,
   "id": "51b57d51-50d6-41f7-ba1e-11dfda11c4db",
   "metadata": {},
   "outputs": [
    {
     "data": {
      "image/png": "[encoded data removed]",
      "text/plain": [
       "<Figure size 337.5x150 with 2 Axes>"
      ]
     },
     "metadata": {},
     "output_type": "display_data"
    }
   ],
   "source": [
    "def make_rayleigh_plots():\n",
    "    fig, (ax_est, ax_bandit) = plt.subplots(1,2, figsize=figsize(width=1.0, height=1.5))\n",
    "    \n",
    "    disable_spines((ax_est, ax_bandit))\n",
    "    \n",
    "    keys = ['PHE', 'EVILL', 'MLE']\n",
    "    x_est = np.array(r_est_rayleigh['x_values'])\n",
    "    \n",
    "    for key in keys:\n",
    "        v = np.array(r_est_rayleigh[key])\n",
    "        ax_est.plot(x_est, np.mean(v, axis=0), label=key, c=colours[key])\n",
    "    \n",
    "    ax_est.legend(frameon=False)\n",
    "    ax_est.set_title('Rayleigh estimation')\n",
    "    ax_est.set_ylabel('$\\ell_2$ error')\n",
    "    ax_est.set_xlabel('number of observations')\n",
    "    \n",
    "    bandit_keys = ['TSL', 'EVILL', 'PHE' ]\n",
    "    \n",
    "    for key in bandit_keys:\n",
    "        v = np.array(r_rayleigh[key])\n",
    "        lb, mean, ub = conf_intervals(v)\n",
    "        ax_bandit.plot(mean, label=key, c=colours[key])\n",
    "    ax_bandit.set_xlim(0,100)\n",
    "    ax_bandit.set_ylim(0, 200)\n",
    "    h, l = ax_bandit.get_legend_handles_labels()\n",
    "    ax_bandit.legend(h[::-1], l[::-1], loc='upper left', frameon=False)\n",
    "    ax_bandit.set_title('Rayleigh linear bandit')\n",
    "    ax_bandit.set_ylabel('regret')\n",
    "    ax_bandit.set_xlabel('number of steps')\n",
    "    \n",
    "    plt.tight_layout()\n",
    "    savefig(fig, 'rayleigh')\n",
    "\n",
    "make_rayleigh_plots()"
   ]
  },
  {
   "cell_type": "code",
   "execution_count": 5,
   "id": "0505a3c0-e2e0-4de7-8e2d-0d36351ac6ee",
   "metadata": {},
   "outputs": [
    {
     "data": {
      "image/png": "[encoded data removed]",
      "text/plain": [
       "<Figure size 337.5x150 with 2 Axes>"
      ]
     },
     "metadata": {},
     "output_type": "display_data"
    }
   ],
   "source": [
    "def make_boxplots():\n",
    "    fig, axs = plt.subplots(1,2, figsize=figsize(width=1.0, height=1.5), sharey=False)\n",
    "    disable_spines(axs)\n",
    "    titles = ['Logistic bandit\\nhigh variance', 'Logistic bandit\\nlow variance']\n",
    "    for ax, title in zip(axs, titles):\n",
    "        ax.set_title(title)\n",
    "    \n",
    "    keys = ['TSL', 'PHE', 'FPL']\n",
    "    names = ['TSL', 'EVILL', 'FPL']\n",
    "    \n",
    "    for ax, data in zip(axs, (r_logistic_high_var, r_logistic_low_var)):\n",
    "        vals = [np.array(data[key])[:, -1] for key in keys]\n",
    "        ax.boxplot(vals, showfliers=True, whis=1.5, flierprops={'marker': 'o', 'markersize': 3})\n",
    "        ax.set_xticks([1,2,3], [name for name in names])\n",
    "        ax.set_ylabel('regret')\n",
    "    fig.tight_layout()\n",
    "    savefig(fig, 'logistic')\n",
    "\n",
    "make_boxplots()"
   ]
  },
  {
   "cell_type": "code",
   "execution_count": null,
   "id": "b8b2d0a7-4d8e-4291-920f-d252a45dbf5f",
   "metadata": {},
   "outputs": [],
   "source": []
  }
 ],
 "metadata": {
  "kernelspec": {
   "display_name": "Python 3 (ipykernel)",
   "language": "python",
   "name": "python3"
  },
  "language_info": {
   "codemirror_mode": {
    "name": "ipython",
    "version": 3
   },
   "file_extension": ".py",
   "mimetype": "text/x-python",
   "name": "python",
   "nbconvert_exporter": "python",
   "pygments_lexer": "ipython3",
   "version": "3.9.1"
  }
 },
 "nbformat": 4,
 "nbformat_minor": 5
}
